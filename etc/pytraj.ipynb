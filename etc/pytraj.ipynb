{
  "cells": [
    {
      "cell_type": "markdown",
      "metadata": {
        "id": "view-in-github",
        "colab_type": "text"
      },
      "source": [
        "<a href=\"https://colab.research.google.com/github/giorginolab/MD-Tutorial-Data/blob/main/etc/pytraj.ipynb\" target=\"_parent\"><img src=\"https://colab.research.google.com/assets/colab-badge.svg\" alt=\"Open In Colab\"/></a>"
      ]
    },
    {
      "cell_type": "markdown",
      "source": [
        "# Demo ACF in MDTraj\n",
        "\n",
        "Compares a numpy implementation with AmberTools' cpptraj/pytraj one."
      ],
      "metadata": {
        "id": "VSlUedn_jDsa"
      }
    },
    {
      "cell_type": "code",
      "source": [
        "%pip  install -q condacolab   \n",
        "import condacolab\n",
        "condacolab.install_miniforge()\n"
      ],
      "metadata": {
        "colab": {
          "base_uri": "https://localhost:8080/"
        },
        "id": "DPhql5qNDS-0",
        "outputId": "5f90a1d3-904c-4245-a8b5-e5f06ae102a5"
      },
      "execution_count": 1,
      "outputs": [
        {
          "output_type": "stream",
          "name": "stdout",
          "text": [
            "\u001b[33mWARNING: Running pip as the 'root' user can result in broken permissions and conflicting behaviour with the system package manager. It is recommended to use a virtual environment instead: https://pip.pypa.io/warnings/venv\u001b[0m\u001b[33m\n",
            "\u001b[0m✨🍰✨ Everything looks OK!\n"
          ]
        }
      ]
    },
    {
      "cell_type": "markdown",
      "metadata": {
        "id": "vG8uOOqyETyO"
      },
      "source": [
        "# Install Python libraries\n",
        "\n",
        "Should be done via either pip or conda. We may already have them."
      ]
    },
    {
      "cell_type": "code",
      "execution_count": 2,
      "metadata": {
        "id": "4HCT1_PtEC0c",
        "colab": {
          "base_uri": "https://localhost:8080/"
        },
        "outputId": "afde7db3-5ed4-4e53-e299-4b7351bf4fa9"
      },
      "outputs": [
        {
          "output_type": "stream",
          "name": "stdout",
          "text": [
            "Collecting package metadata (current_repodata.json): ...working... done\n",
            "Solving environment: ...working... failed with initial frozen solve. Retrying with flexible solve.\n",
            "Solving environment: ...working... failed with repodata from current_repodata.json, will retry with next repodata source.\n",
            "Collecting package metadata (repodata.json): ...working... done\n",
            "Solving environment: ...working... done\n",
            "\n",
            "## Package Plan ##\n",
            "\n",
            "  environment location: /usr/local\n",
            "\n",
            "  added / updated specs:\n",
            "    - ambertools=22\n",
            "    - mdtraj\n",
            "\n",
            "\n",
            "The following packages will be downloaded:\n",
            "\n",
            "    package                    |            build\n",
            "    ---------------------------|-----------------\n",
            "    ambertools-22.5            |  py310hd182041_0        91.4 MB  conda-forge\n",
            "    arpack-3.7.0               |       hdefa2d7_2         215 KB  conda-forge\n",
            "    astunparse-1.6.3           |     pyhd8ed1ab_0          15 KB  conda-forge\n",
            "    blosc-1.21.4               |       h0f2a231_0          48 KB  conda-forge\n",
            "    boltons-23.0.0             |     pyhd8ed1ab_0         296 KB  conda-forge\n",
            "    boost-cpp-1.78.0           |       h6582d0a_3        15.2 MB  conda-forge\n",
            "    brotli-1.0.9               |       h166bdaf_8          18 KB  conda-forge\n",
            "    brotli-bin-1.0.9           |       h166bdaf_8          20 KB  conda-forge\n",
            "    c-ares-1.19.0              |       hd590300_0         111 KB  conda-forge\n",
            "    c-blosc2-2.8.0             |       hf91038e_1         277 KB  conda-forge\n",
            "    ca-certificates-2023.5.7   |       hbcca054_0         145 KB  conda-forge\n",
            "    certifi-2023.5.7           |     pyhd8ed1ab_0         149 KB  conda-forge\n",
            "    conda-23.3.1               |  py310hff52083_0         941 KB  conda-forge\n",
            "    contourpy-1.0.7            |  py310hdf3cbec_0         211 KB  conda-forge\n",
            "    cudatoolkit-11.8.0         |      h37601d7_11       635.9 MB  conda-forge\n",
            "    curl-8.0.1                 |       h588be90_0          88 KB  conda-forge\n",
            "    cycler-0.11.0              |     pyhd8ed1ab_0          10 KB  conda-forge\n",
            "    cython-0.29.34             |  py310heca2aa9_0         2.0 MB  conda-forge\n",
            "    fftw-3.3.10                |nompi_hc118613_107         2.0 MB  conda-forge\n",
            "    fonttools-4.39.4           |  py310h2372a71_0         2.1 MB  conda-forge\n",
            "    freetype-2.12.1            |       hca18f0e_1         611 KB  conda-forge\n",
            "    hdf4-4.2.15                |       h501b40f_6         740 KB  conda-forge\n",
            "    hdf5-1.14.0                |nompi_hb72d44e_103         3.4 MB  conda-forge\n",
            "    icu-72.1                   |       hcb278e6_0        11.4 MB  conda-forge\n",
            "    jsonpatch-1.32             |     pyhd8ed1ab_0          14 KB  conda-forge\n",
            "    jsonpointer-2.0            |             py_0           9 KB  conda-forge\n",
            "    keyutils-1.6.1             |       h166bdaf_0         115 KB  conda-forge\n",
            "    kiwisolver-1.4.4           |  py310hbf28c38_1          76 KB  conda-forge\n",
            "    krb5-1.20.1                |       h81ceb04_0         1.3 MB  conda-forge\n",
            "    lcms2-2.15                 |       haa2dc70_1         236 KB  conda-forge\n",
            "    lerc-4.0.0                 |       h27087fc_0         275 KB  conda-forge\n",
            "    libaec-1.0.6               |       hcb278e6_1          34 KB  conda-forge\n",
            "    libblas-3.9.0              |16_linux64_openblas          13 KB  conda-forge\n",
            "    libbrotlicommon-1.0.9      |       h166bdaf_8          66 KB  conda-forge\n",
            "    libbrotlidec-1.0.9         |       h166bdaf_8          33 KB  conda-forge\n",
            "    libbrotlienc-1.0.9         |       h166bdaf_8         288 KB  conda-forge\n",
            "    libcblas-3.9.0             |16_linux64_openblas          13 KB  conda-forge\n",
            "    libcurl-8.0.1              |       h588be90_0         352 KB  conda-forge\n",
            "    libdeflate-1.18            |       h0b41bf4_0          64 KB  conda-forge\n",
            "    libedit-3.1.20191231       |       he28a2e2_2         121 KB  conda-forge\n",
            "    libev-4.33                 |       h516909a_1         104 KB  conda-forge\n",
            "    libgfortran-ng-12.2.0      |      h69a702a_19          22 KB  conda-forge\n",
            "    libgfortran5-12.2.0        |      h337968e_19         1.8 MB  conda-forge\n",
            "    libiconv-1.17              |       h166bdaf_0         1.4 MB  conda-forge\n",
            "    libjpeg-turbo-2.1.5.1      |       h0b41bf4_0         479 KB  conda-forge\n",
            "    liblapack-3.9.0            |16_linux64_openblas          13 KB  conda-forge\n",
            "    libnetcdf-4.9.2            |nompi_hdf9a29f_104         806 KB  conda-forge\n",
            "    libnghttp2-1.52.0          |       h61bc06f_0         608 KB  conda-forge\n",
            "    libopenblas-0.3.21         |pthreads_h78a6416_3        10.1 MB  conda-forge\n",
            "    libpng-1.6.39              |       h753d276_0         276 KB  conda-forge\n",
            "    libssh2-1.10.0             |       hf14f497_3         234 KB  conda-forge\n",
            "    libtiff-4.5.0              |       ha587672_6         398 KB  conda-forge\n",
            "    libwebp-base-1.3.0         |       h0b41bf4_0         348 KB  conda-forge\n",
            "    libxcb-1.13                |    h7f98852_1004         391 KB  conda-forge\n",
            "    libxml2-2.10.4             |       hfdac1af_0         697 KB  conda-forge\n",
            "    libzip-1.9.2               |       hc929e4a_1          97 KB  conda-forge\n",
            "    lz4-c-1.9.4                |       hcb278e6_0         140 KB  conda-forge\n",
            "    lzo-2.10                   |    h516909a_1000         314 KB  conda-forge\n",
            "    matplotlib-base-3.7.1      |  py310he60537e_0         6.5 MB  conda-forge\n",
            "    mdtraj-1.9.7               |  py310h902c554_4         1.8 MB  conda-forge\n",
            "    munkres-1.1.4              |     pyh9f0ad1d_0          12 KB  conda-forge\n",
            "    netcdf-fortran-4.6.0       |nompi_h3142581_105         408 KB  conda-forge\n",
            "    nomkl-1.0                  |       h5ca1d4c_0           4 KB  conda-forge\n",
            "    numexpr-2.8.4              |py310h690d005_100         126 KB  conda-forge\n",
            "    numpy-1.24.3               |  py310ha4c1d20_0         6.4 MB  conda-forge\n",
            "    openjpeg-2.5.0             |       hfec8fc6_2         344 KB  conda-forge\n",
            "    openssl-3.1.0              |       hd590300_3         2.5 MB  conda-forge\n",
            "    packaging-23.1             |     pyhd8ed1ab_0          45 KB  conda-forge\n",
            "    packmol-20.010             |       h86c2bf4_0         129 KB  conda-forge\n",
            "    pandas-2.0.1               |  py310h7cbd5c2_1        11.7 MB  conda-forge\n",
            "    parmed-4.1.0               |  py310heca2aa9_0         1.2 MB  conda-forge\n",
            "    perl-5.32.1                | 2_h7f98852_perl5        14.4 MB  conda-forge\n",
            "    pillow-9.5.0               |  py310h065c6d2_0        44.3 MB  conda-forge\n",
            "    platformdirs-3.5.1         |     pyhd8ed1ab_0          18 KB  conda-forge\n",
            "    pooch-1.7.0                |     pyha770c72_3          50 KB  conda-forge\n",
            "    pthread-stubs-0.4          |    h36c2ea0_1001           5 KB  conda-forge\n",
            "    py-cpuinfo-9.0.0           |     pyhd8ed1ab_0          24 KB  conda-forge\n",
            "    pyparsing-3.0.9            |     pyhd8ed1ab_0          79 KB  conda-forge\n",
            "    pytables-3.8.0             |  py310hde6a235_1         1.9 MB  conda-forge\n",
            "    python-dateutil-2.8.2      |     pyhd8ed1ab_0         240 KB  conda-forge\n",
            "    python-tzdata-2023.3       |     pyhd8ed1ab_0         140 KB  conda-forge\n",
            "    pytz-2023.3                |     pyhd8ed1ab_0         182 KB  conda-forge\n",
            "    scipy-1.10.1               |  py310ha4c1d20_3        14.4 MB  conda-forge\n",
            "    six-1.16.0                 |     pyh6c4a22f_0          14 KB  conda-forge\n",
            "    snappy-1.1.10              |       h9fff704_0          38 KB  conda-forge\n",
            "    typing-extensions-4.5.0    |       hd8ed1ab_0           9 KB  conda-forge\n",
            "    typing_extensions-4.5.0    |     pyha770c72_0          31 KB  conda-forge\n",
            "    unicodedata2-15.0.0        |  py310h5764c6d_0         500 KB  conda-forge\n",
            "    xorg-kbproto-1.0.7         |    h7f98852_1002          27 KB  conda-forge\n",
            "    xorg-libice-1.0.10         |       h7f98852_0          58 KB  conda-forge\n",
            "    xorg-libsm-1.2.3           |    hd9c2040_1000          26 KB  conda-forge\n",
            "    xorg-libx11-1.8.4          |       h0b41bf4_0         810 KB  conda-forge\n",
            "    xorg-libxau-1.0.9          |       h7f98852_0          13 KB  conda-forge\n",
            "    xorg-libxdmcp-1.1.3        |       h7f98852_0          19 KB  conda-forge\n",
            "    xorg-libxext-1.3.4         |       h0b41bf4_2          49 KB  conda-forge\n",
            "    xorg-libxt-1.2.1           |       h7f98852_2         375 KB  conda-forge\n",
            "    xorg-xextproto-7.3.0       |    h0b41bf4_1003          30 KB  conda-forge\n",
            "    xorg-xproto-7.0.31         |    h7f98852_1007          73 KB  conda-forge\n",
            "    zlib-1.2.13                |       h166bdaf_4          92 KB  conda-forge\n",
            "    zlib-ng-2.0.7              |       h0b41bf4_0          92 KB  conda-forge\n",
            "    ------------------------------------------------------------\n",
            "                                           Total:       897.2 MB\n",
            "\n",
            "The following NEW packages will be INSTALLED:\n",
            "\n",
            "  ambertools         conda-forge/linux-64::ambertools-22.5-py310hd182041_0 \n",
            "  arpack             conda-forge/linux-64::arpack-3.7.0-hdefa2d7_2 \n",
            "  astunparse         conda-forge/noarch::astunparse-1.6.3-pyhd8ed1ab_0 \n",
            "  blosc              conda-forge/linux-64::blosc-1.21.4-h0f2a231_0 \n",
            "  boltons            conda-forge/noarch::boltons-23.0.0-pyhd8ed1ab_0 \n",
            "  boost-cpp          conda-forge/linux-64::boost-cpp-1.78.0-h6582d0a_3 \n",
            "  brotli             conda-forge/linux-64::brotli-1.0.9-h166bdaf_8 \n",
            "  brotli-bin         conda-forge/linux-64::brotli-bin-1.0.9-h166bdaf_8 \n",
            "  c-ares             conda-forge/linux-64::c-ares-1.19.0-hd590300_0 \n",
            "  c-blosc2           conda-forge/linux-64::c-blosc2-2.8.0-hf91038e_1 \n",
            "  contourpy          conda-forge/linux-64::contourpy-1.0.7-py310hdf3cbec_0 \n",
            "  cudatoolkit        conda-forge/linux-64::cudatoolkit-11.8.0-h37601d7_11 \n",
            "  curl               conda-forge/linux-64::curl-8.0.1-h588be90_0 \n",
            "  cycler             conda-forge/noarch::cycler-0.11.0-pyhd8ed1ab_0 \n",
            "  cython             conda-forge/linux-64::cython-0.29.34-py310heca2aa9_0 \n",
            "  fftw               conda-forge/linux-64::fftw-3.3.10-nompi_hc118613_107 \n",
            "  fonttools          conda-forge/linux-64::fonttools-4.39.4-py310h2372a71_0 \n",
            "  freetype           conda-forge/linux-64::freetype-2.12.1-hca18f0e_1 \n",
            "  hdf4               conda-forge/linux-64::hdf4-4.2.15-h501b40f_6 \n",
            "  hdf5               conda-forge/linux-64::hdf5-1.14.0-nompi_hb72d44e_103 \n",
            "  icu                conda-forge/linux-64::icu-72.1-hcb278e6_0 \n",
            "  jsonpatch          conda-forge/noarch::jsonpatch-1.32-pyhd8ed1ab_0 \n",
            "  jsonpointer        conda-forge/noarch::jsonpointer-2.0-py_0 \n",
            "  keyutils           conda-forge/linux-64::keyutils-1.6.1-h166bdaf_0 \n",
            "  kiwisolver         conda-forge/linux-64::kiwisolver-1.4.4-py310hbf28c38_1 \n",
            "  krb5               conda-forge/linux-64::krb5-1.20.1-h81ceb04_0 \n",
            "  lcms2              conda-forge/linux-64::lcms2-2.15-haa2dc70_1 \n",
            "  lerc               conda-forge/linux-64::lerc-4.0.0-h27087fc_0 \n",
            "  libaec             conda-forge/linux-64::libaec-1.0.6-hcb278e6_1 \n",
            "  libblas            conda-forge/linux-64::libblas-3.9.0-16_linux64_openblas \n",
            "  libbrotlicommon    conda-forge/linux-64::libbrotlicommon-1.0.9-h166bdaf_8 \n",
            "  libbrotlidec       conda-forge/linux-64::libbrotlidec-1.0.9-h166bdaf_8 \n",
            "  libbrotlienc       conda-forge/linux-64::libbrotlienc-1.0.9-h166bdaf_8 \n",
            "  libcblas           conda-forge/linux-64::libcblas-3.9.0-16_linux64_openblas \n",
            "  libcurl            conda-forge/linux-64::libcurl-8.0.1-h588be90_0 \n",
            "  libdeflate         conda-forge/linux-64::libdeflate-1.18-h0b41bf4_0 \n",
            "  libedit            conda-forge/linux-64::libedit-3.1.20191231-he28a2e2_2 \n",
            "  libev              conda-forge/linux-64::libev-4.33-h516909a_1 \n",
            "  libgfortran-ng     conda-forge/linux-64::libgfortran-ng-12.2.0-h69a702a_19 \n",
            "  libgfortran5       conda-forge/linux-64::libgfortran5-12.2.0-h337968e_19 \n",
            "  libiconv           conda-forge/linux-64::libiconv-1.17-h166bdaf_0 \n",
            "  libjpeg-turbo      conda-forge/linux-64::libjpeg-turbo-2.1.5.1-h0b41bf4_0 \n",
            "  liblapack          conda-forge/linux-64::liblapack-3.9.0-16_linux64_openblas \n",
            "  libnetcdf          conda-forge/linux-64::libnetcdf-4.9.2-nompi_hdf9a29f_104 \n",
            "  libnghttp2         conda-forge/linux-64::libnghttp2-1.52.0-h61bc06f_0 \n",
            "  libopenblas        conda-forge/linux-64::libopenblas-0.3.21-pthreads_h78a6416_3 \n",
            "  libpng             conda-forge/linux-64::libpng-1.6.39-h753d276_0 \n",
            "  libssh2            conda-forge/linux-64::libssh2-1.10.0-hf14f497_3 \n",
            "  libtiff            conda-forge/linux-64::libtiff-4.5.0-ha587672_6 \n",
            "  libwebp-base       conda-forge/linux-64::libwebp-base-1.3.0-h0b41bf4_0 \n",
            "  libxcb             conda-forge/linux-64::libxcb-1.13-h7f98852_1004 \n",
            "  libxml2            conda-forge/linux-64::libxml2-2.10.4-hfdac1af_0 \n",
            "  libzip             conda-forge/linux-64::libzip-1.9.2-hc929e4a_1 \n",
            "  lz4-c              conda-forge/linux-64::lz4-c-1.9.4-hcb278e6_0 \n",
            "  lzo                conda-forge/linux-64::lzo-2.10-h516909a_1000 \n",
            "  matplotlib-base    conda-forge/linux-64::matplotlib-base-3.7.1-py310he60537e_0 \n",
            "  mdtraj             conda-forge/linux-64::mdtraj-1.9.7-py310h902c554_4 \n",
            "  munkres            conda-forge/noarch::munkres-1.1.4-pyh9f0ad1d_0 \n",
            "  netcdf-fortran     conda-forge/linux-64::netcdf-fortran-4.6.0-nompi_h3142581_105 \n",
            "  nomkl              conda-forge/noarch::nomkl-1.0-h5ca1d4c_0 \n",
            "  numexpr            conda-forge/linux-64::numexpr-2.8.4-py310h690d005_100 \n",
            "  numpy              conda-forge/linux-64::numpy-1.24.3-py310ha4c1d20_0 \n",
            "  openjpeg           conda-forge/linux-64::openjpeg-2.5.0-hfec8fc6_2 \n",
            "  packaging          conda-forge/noarch::packaging-23.1-pyhd8ed1ab_0 \n",
            "  packmol            conda-forge/linux-64::packmol-20.010-h86c2bf4_0 \n",
            "  pandas             conda-forge/linux-64::pandas-2.0.1-py310h7cbd5c2_1 \n",
            "  parmed             conda-forge/linux-64::parmed-4.1.0-py310heca2aa9_0 \n",
            "  perl               conda-forge/linux-64::perl-5.32.1-2_h7f98852_perl5 \n",
            "  pillow             conda-forge/linux-64::pillow-9.5.0-py310h065c6d2_0 \n",
            "  platformdirs       conda-forge/noarch::platformdirs-3.5.1-pyhd8ed1ab_0 \n",
            "  pooch              conda-forge/noarch::pooch-1.7.0-pyha770c72_3 \n",
            "  pthread-stubs      conda-forge/linux-64::pthread-stubs-0.4-h36c2ea0_1001 \n",
            "  py-cpuinfo         conda-forge/noarch::py-cpuinfo-9.0.0-pyhd8ed1ab_0 \n",
            "  pyparsing          conda-forge/noarch::pyparsing-3.0.9-pyhd8ed1ab_0 \n",
            "  pytables           conda-forge/linux-64::pytables-3.8.0-py310hde6a235_1 \n",
            "  python-dateutil    conda-forge/noarch::python-dateutil-2.8.2-pyhd8ed1ab_0 \n",
            "  python-tzdata      conda-forge/noarch::python-tzdata-2023.3-pyhd8ed1ab_0 \n",
            "  pytz               conda-forge/noarch::pytz-2023.3-pyhd8ed1ab_0 \n",
            "  scipy              conda-forge/linux-64::scipy-1.10.1-py310ha4c1d20_3 \n",
            "  six                conda-forge/noarch::six-1.16.0-pyh6c4a22f_0 \n",
            "  snappy             conda-forge/linux-64::snappy-1.1.10-h9fff704_0 \n",
            "  typing-extensions  conda-forge/noarch::typing-extensions-4.5.0-hd8ed1ab_0 \n",
            "  typing_extensions  conda-forge/noarch::typing_extensions-4.5.0-pyha770c72_0 \n",
            "  unicodedata2       conda-forge/linux-64::unicodedata2-15.0.0-py310h5764c6d_0 \n",
            "  xorg-kbproto       conda-forge/linux-64::xorg-kbproto-1.0.7-h7f98852_1002 \n",
            "  xorg-libice        conda-forge/linux-64::xorg-libice-1.0.10-h7f98852_0 \n",
            "  xorg-libsm         conda-forge/linux-64::xorg-libsm-1.2.3-hd9c2040_1000 \n",
            "  xorg-libx11        conda-forge/linux-64::xorg-libx11-1.8.4-h0b41bf4_0 \n",
            "  xorg-libxau        conda-forge/linux-64::xorg-libxau-1.0.9-h7f98852_0 \n",
            "  xorg-libxdmcp      conda-forge/linux-64::xorg-libxdmcp-1.1.3-h7f98852_0 \n",
            "  xorg-libxext       conda-forge/linux-64::xorg-libxext-1.3.4-h0b41bf4_2 \n",
            "  xorg-libxt         conda-forge/linux-64::xorg-libxt-1.2.1-h7f98852_2 \n",
            "  xorg-xextproto     conda-forge/linux-64::xorg-xextproto-7.3.0-h0b41bf4_1003 \n",
            "  xorg-xproto        conda-forge/linux-64::xorg-xproto-7.0.31-h7f98852_1007 \n",
            "  zlib               conda-forge/linux-64::zlib-1.2.13-h166bdaf_4 \n",
            "  zlib-ng            conda-forge/linux-64::zlib-ng-2.0.7-h0b41bf4_0 \n",
            "\n",
            "The following packages will be UPDATED:\n",
            "\n",
            "  ca-certificates                      2022.12.7-ha878542_0 --> 2023.5.7-hbcca054_0 \n",
            "  certifi                            2022.12.7-pyhd8ed1ab_0 --> 2023.5.7-pyhd8ed1ab_0 \n",
            "  conda                              23.1.0-py310hff52083_0 --> 23.3.1-py310hff52083_0 \n",
            "  openssl                                  3.1.0-h0b41bf4_0 --> 3.1.0-hd590300_3 \n",
            "\n",
            "\n",
            "Preparing transaction: ...working... done\n",
            "Verifying transaction: ...working... done\n",
            "Executing transaction: ...working... By downloading and using the CUDA Toolkit conda packages, you accept the terms and conditions of the CUDA End User License Agreement (EULA): https://docs.nvidia.com/cuda/eula/index.html\n",
            "\n",
            "done\n"
          ]
        }
      ],
      "source": [
        "!conda install -q mdtraj ambertools=22"
      ]
    },
    {
      "cell_type": "code",
      "source": [
        "!cpptraj"
      ],
      "metadata": {
        "colab": {
          "base_uri": "https://localhost:8080/"
        },
        "id": "a84c45m_FTJr",
        "outputId": "5e693fcb-6371-4401-d3ad-6756dacd6c9d"
      },
      "execution_count": 3,
      "outputs": [
        {
          "output_type": "stream",
          "name": "stdout",
          "text": [
            "\n",
            "CPPTRAJ: Trajectory Analysis. V6.4.4 (AmberTools)\n",
            "    ___  ___  ___  ___\n",
            "     | \\/ | \\/ | \\/ | \n",
            "    _|_/\\_|_/\\_|_/\\_|_\n",
            "\n",
            "| Date/time: 05/16/23 21:57:10\n",
            "| Available memory: 2.341 GB\n",
            "\n",
            "^C\n"
          ]
        }
      ]
    },
    {
      "cell_type": "code",
      "source": [
        "# Download the test trajectory\n",
        "!wget -O- https://github.com/Amber-MD/pytraj/archive/refs/tags/v.2.0.5.tar.gz | tar -zxf-"
      ],
      "metadata": {
        "colab": {
          "base_uri": "https://localhost:8080/"
        },
        "id": "ANKWDXPPPhhT",
        "outputId": "0ed79c11-3a0f-4586-b280-0c73b8c375ff"
      },
      "execution_count": 4,
      "outputs": [
        {
          "output_type": "stream",
          "name": "stdout",
          "text": [
            "--2023-05-16 21:58:57--  https://github.com/Amber-MD/pytraj/archive/refs/tags/v.2.0.5.tar.gz\n",
            "Resolving github.com (github.com)... 140.82.114.4\n",
            "Connecting to github.com (github.com)|140.82.114.4|:443... connected.\n",
            "HTTP request sent, awaiting response... 302 Found\n",
            "Location: https://codeload.github.com/Amber-MD/pytraj/tar.gz/refs/tags/v.2.0.5 [following]\n",
            "--2023-05-16 21:58:57--  https://codeload.github.com/Amber-MD/pytraj/tar.gz/refs/tags/v.2.0.5\n",
            "Resolving codeload.github.com (codeload.github.com)... 140.82.113.10\n",
            "Connecting to codeload.github.com (codeload.github.com)|140.82.113.10|:443... connected.\n",
            "HTTP request sent, awaiting response... 200 OK\n",
            "Length: unspecified [application/x-gzip]\n",
            "Saving to: ‘STDOUT’\n",
            "\n",
            "-                       [              <=>   ]  36.19M  7.11MB/s    in 4.0s    \n",
            "\n",
            "2023-05-16 21:59:01 (9.06 MB/s) - written to stdout [37945654]\n",
            "\n"
          ]
        }
      ]
    },
    {
      "cell_type": "code",
      "source": [
        "!find . -name Tc5b.x"
      ],
      "metadata": {
        "colab": {
          "base_uri": "https://localhost:8080/"
        },
        "id": "rcdIavwaPrzh",
        "outputId": "1136c644-f3cf-4ecc-f73b-d51d4fdecde4"
      },
      "execution_count": 5,
      "outputs": [
        {
          "output_type": "stream",
          "name": "stdout",
          "text": [
            "./pytraj-v.2.0.5/tests/data/Tc5b.x\n"
          ]
        }
      ]
    },
    {
      "cell_type": "markdown",
      "source": [
        "# Pytraj"
      ],
      "metadata": {
        "id": "Nj-A0W26bTEA"
      }
    },
    {
      "cell_type": "code",
      "source": [
        "import pytraj as pt\n",
        "\n",
        "# use iterload for memory saving\n",
        "traj = pt.iterload(\"pytraj-v.2.0.5/tests/data/Tc5b.x\", \"pytraj-v.2.0.5/tests/data/Tc5b.top\")\n",
        "\n",
        "# calculate phi residue 3\n",
        "dset = pt.calc_phi(traj, resrange='3-7')\n",
        "\n",
        "# calcuate autocorrelation function for 1st dataset\n",
        "af = pt.acorr(dset[0])\n",
        "print(af)"
      ],
      "metadata": {
        "colab": {
          "base_uri": "https://localhost:8080/"
        },
        "id": "LOYG2rNwQCgs",
        "outputId": "385d122a-3179-4249-f423-bcd56404bb13"
      },
      "execution_count": 6,
      "outputs": [
        {
          "output_type": "stream",
          "name": "stdout",
          "text": [
            "[ 1.         -0.14098525  0.0815446  -0.33501382 -0.3415139   0.12924603\n",
            " -0.09997055  0.31578632 -0.112455    0.00336156]\n"
          ]
        }
      ]
    },
    {
      "cell_type": "code",
      "source": [
        "dset"
      ],
      "metadata": {
        "colab": {
          "base_uri": "https://localhost:8080/"
        },
        "id": "TtgwdO9qQhZE",
        "outputId": "0b0497e7-01ba-4337-e407-45c9ac432e47"
      },
      "execution_count": 7,
      "outputs": [
        {
          "output_type": "execute_result",
          "data": {
            "text/plain": [
              "<pytraj.DatasetList with 5 datasets>\n",
              "phi:3\n",
              "[-149.03546384  -75.2000377   -78.25317579  -71.02248136  -63.91156199\n",
              " -116.60967828  -91.31475319 -132.49270182  -80.4173049   -95.86562288]\n",
              "\n",
              "phi:4\n",
              "[-155.79557499 -106.17617884 -134.02131493  -53.55778456  -59.58794832\n",
              "  -94.98123448  -79.39922554  -64.5076182   -73.3429715   -81.34933091]\n",
              "\n",
              "phi:5\n",
              "[-125.82477671 -100.82317865 -118.23384293  -45.42351746  -65.64193036\n",
              "  -80.093054    -88.08732265  -88.00621383 -108.76069876  -79.56164788]\n",
              "\n",
              "phi:6\n",
              "[-154.42303257 -148.64457702 -131.39734601  -82.5877152   -74.32836239\n",
              " -110.53379436 -102.63520333 -140.02184247  -68.3960965  -104.7528891 ]\n",
              "\n",
              "phi:7\n",
              "[-163.56723225 -146.44236323 -113.67087119 -134.3020574  -108.61681861\n",
              " -127.96071037 -122.54726782 -113.74723252 -140.51360719 -137.665533  ]"
            ]
          },
          "metadata": {},
          "execution_count": 7
        }
      ]
    },
    {
      "cell_type": "code",
      "source": [
        "traj"
      ],
      "metadata": {
        "colab": {
          "base_uri": "https://localhost:8080/"
        },
        "id": "CXD9iz6YSI11",
        "outputId": "d713dfd3-9000-4f3a-b8b7-7d9eb028c7bb"
      },
      "execution_count": 8,
      "outputs": [
        {
          "output_type": "execute_result",
          "data": {
            "text/plain": [
              "pytraj.TrajectoryIterator, 10 frames: \n",
              "Size: 0.000068 (GB)\n",
              "<Topology: 304 atoms, 20 residues, 1 mols, non-PBC>\n",
              "           "
            ]
          },
          "metadata": {},
          "execution_count": 8
        }
      ]
    },
    {
      "cell_type": "markdown",
      "source": [
        "# MDTraj\n",
        "\n",
        "Note that MDTraj relies on file extensions so we symlink the files for loading."
      ],
      "metadata": {
        "id": "j-LQ5aRTbXca"
      }
    },
    {
      "cell_type": "code",
      "source": [
        "import mdtraj as mdt\n",
        "import numpy as np\n",
        "\n",
        "!ln -s pytraj-v.2.0.5/tests/data/Tc5b.top Tc5b.prmtop\n",
        "!ln -s pytraj-v.2.0.5/tests/data/Tc5b.x Tc5b.mdcrd\n",
        "traj_mdt = mdt.load(\"Tc5b.mdcrd\", top=\"Tc5b.prmtop\")"
      ],
      "metadata": {
        "colab": {
          "base_uri": "https://localhost:8080/"
        },
        "id": "-XqU1uCJRLvr",
        "outputId": "0f50173e-d9ce-42a2-dbf7-1ca3f4f37d40"
      },
      "execution_count": 14,
      "outputs": [
        {
          "output_type": "stream",
          "name": "stdout",
          "text": [
            "ln: failed to create symbolic link 'Tc5b.prmtop': File exists\n",
            "ln: failed to create symbolic link 'Tc5b.mdcrd': File exists\n"
          ]
        }
      ]
    },
    {
      "cell_type": "code",
      "source": [
        "traj_mdt"
      ],
      "metadata": {
        "colab": {
          "base_uri": "https://localhost:8080/"
        },
        "id": "AXaaCz10Siq6",
        "outputId": "901451bf-27c8-4c58-a122-f7d4ea7b5a46"
      },
      "execution_count": 15,
      "outputs": [
        {
          "output_type": "execute_result",
          "data": {
            "text/plain": [
              "<mdtraj.Trajectory with 10 frames, 304 atoms, 20 residues, without unitcells at 0x7fd7626017b0>"
            ]
          },
          "metadata": {},
          "execution_count": 15
        }
      ]
    },
    {
      "cell_type": "code",
      "source": [
        "phi_i, phi_a = mdt.compute_phi(traj_mdt)"
      ],
      "metadata": {
        "id": "RNhPUZNHTlxO"
      },
      "execution_count": 16,
      "outputs": []
    },
    {
      "cell_type": "code",
      "source": [
        "phi_a.shape"
      ],
      "metadata": {
        "colab": {
          "base_uri": "https://localhost:8080/"
        },
        "id": "oVGTngh7ULDm",
        "outputId": "0b3fcf1f-9753-44f8-cc24-2c13f0ce6dfb"
      },
      "execution_count": 17,
      "outputs": [
        {
          "output_type": "execute_result",
          "data": {
            "text/plain": [
              "(10, 19)"
            ]
          },
          "metadata": {},
          "execution_count": 17
        }
      ]
    },
    {
      "cell_type": "code",
      "source": [
        "# Residue indices are different for some reason. The results match.\n",
        "phi_subset = phi_a[:,1:6].T * 180/np.pi\n",
        "phi_subset"
      ],
      "metadata": {
        "colab": {
          "base_uri": "https://localhost:8080/"
        },
        "id": "XmJDaXmhUTAO",
        "outputId": "e74a9f87-bd1b-4f83-a541-9c0a109fb2fd"
      },
      "execution_count": 18,
      "outputs": [
        {
          "output_type": "execute_result",
          "data": {
            "text/plain": [
              "array([[-149.03546 ,  -75.19999 ,  -78.253174, ..., -132.49269 ,\n",
              "         -80.417305,  -95.865616],\n",
              "       [-155.79549 , -106.17615 , -134.02132 , ...,  -64.50762 ,\n",
              "         -73.34293 ,  -81.34929 ],\n",
              "       [-125.82476 , -100.82319 , -118.23385 , ...,  -88.0062  ,\n",
              "        -108.76068 ,  -79.561676],\n",
              "       [-154.42303 , -148.64458 , -131.39734 , ..., -140.02182 ,\n",
              "         -68.39611 , -104.75288 ],\n",
              "       [-163.56723 , -146.44235 , -113.670876, ..., -113.74722 ,\n",
              "        -140.51361 , -137.6655  ]], dtype=float32)"
            ]
          },
          "metadata": {},
          "execution_count": 18
        }
      ]
    },
    {
      "cell_type": "code",
      "source": [
        "p0=phi_subset[0,:]"
      ],
      "metadata": {
        "id": "12dBrMAvWKoT"
      },
      "execution_count": 19,
      "outputs": []
    },
    {
      "cell_type": "code",
      "source": [
        "# ACF requires a couple of conversions\n",
        "cor_p0=np.correlate(p0,p0,\"full\")\n",
        "cor_p0=cor_p0[cor_p0.size//2:]\n",
        "cor_p0"
      ],
      "metadata": {
        "colab": {
          "base_uri": "https://localhost:8080/"
        },
        "id": "DtSIKUeGUrIP",
        "outputId": "c081fb5a-7a06-4588-bb03-cfdde12b6d12"
      },
      "execution_count": 20,
      "outputs": [
        {
          "output_type": "execute_result",
          "data": {
            "text/plain": [
              "array([98266.734, 75752.4  , 71617.37 , 57600.703, 51168.227, 46452.18 ,\n",
              "       36674.12 , 33295.277, 19194.123, 14287.376], dtype=float32)"
            ]
          },
          "metadata": {},
          "execution_count": 20
        }
      ]
    },
    {
      "cell_type": "code",
      "source": [
        "# Pytraj/cpptraj use NORMALIZED ACF. \n",
        "p0s=(p0-p0.mean())/p0.std()\n",
        "p0s"
      ],
      "metadata": {
        "colab": {
          "base_uri": "https://localhost:8080/"
        },
        "id": "y9Co45-EZ00v",
        "outputId": "9f24d24b-ef28-44c0-fc82-7dcc5f05568e"
      },
      "execution_count": 21,
      "outputs": [
        {
          "output_type": "execute_result",
          "data": {
            "text/plain": [
              "array([-1.9940327 ,  0.7516145 ,  0.63807875,  0.90695906,  1.171386  ,\n",
              "       -0.78824645,  0.15236814, -1.378873  ,  0.55760336, -0.01685786],\n",
              "      dtype=float32)"
            ]
          },
          "metadata": {},
          "execution_count": 21
        }
      ]
    },
    {
      "cell_type": "code",
      "source": [
        "# The results match\n",
        "cor_p0s=np.correlate(p0s,p0s,\"full\")\n",
        "cor_p0s=cor_p0s[cor_p0s.size//2:]/len(p0s)\n",
        "cor_p0s"
      ],
      "metadata": {
        "colab": {
          "base_uri": "https://localhost:8080/"
        },
        "id": "DivmI1HRZ898",
        "outputId": "4633f1c5-045f-41ea-a12f-16e2f5290e27"
      },
      "execution_count": 22,
      "outputs": [
        {
          "output_type": "execute_result",
          "data": {
            "text/plain": [
              "array([ 1.0000001 , -0.14098492,  0.08154424, -0.3350137 , -0.3415141 ,\n",
              "        0.12924582, -0.09997027,  0.31578642, -0.112455  ,  0.00336151],\n",
              "      dtype=float32)"
            ]
          },
          "metadata": {},
          "execution_count": 22
        }
      ]
    },
    {
      "cell_type": "code",
      "source": [],
      "metadata": {
        "id": "885aGas8ahXR"
      },
      "execution_count": 22,
      "outputs": []
    }
  ],
  "metadata": {
    "colab": {
      "name": "practice_answers.ipynb",
      "provenance": [],
      "include_colab_link": true
    },
    "kernelspec": {
      "display_name": "Python 3",
      "language": "python",
      "name": "python3"
    },
    "language_info": {
      "codemirror_mode": {
        "name": "ipython",
        "version": 3
      },
      "file_extension": ".py",
      "mimetype": "text/x-python",
      "name": "python",
      "nbconvert_exporter": "python",
      "pygments_lexer": "ipython3",
      "version": "3.10.6"
    }
  },
  "nbformat": 4,
  "nbformat_minor": 0
}