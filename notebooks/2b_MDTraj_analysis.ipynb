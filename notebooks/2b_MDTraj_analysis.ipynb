{
  "cells": [
    {
      "cell_type": "markdown",
      "metadata": {
        "id": "view-in-github",
        "colab_type": "text"
      },
      "source": [
        "<a href=\"https://colab.research.google.com/github/giorginolab/MD-Tutorial-Data/blob/main/notebooks/2b_MDTraj_analysis.ipynb\" target=\"_parent\"><img src=\"https://colab.research.google.com/assets/colab-badge.svg\" alt=\"Open In Colab\"/></a>"
      ]
    },
    {
      "cell_type": "markdown",
      "metadata": {
        "id": "SBPzAT4qCrW1"
      },
      "source": [
        "# MD analysis: Gelsolin WT/mutant, apo/nanobody example \n",
        "*Toni Giorgino, IBF-CNR, Italy* - www.giorginolab.it\n",
        "\n",
        "This is a Python notebook, based on Google Colaboratory platform. For an introduction to the platform, see [here](https://colab.research.google.com/notebooks/welcome.ipynb). You will be able to edit Python statements on this notebook by entering them into \"cells\", and execute them with the \"play\" button.\n",
        "\n",
        "Notes:\n",
        " * The order of execution matters, not the order of display. \n",
        " * To start from scratch, restart the runtime. \n",
        " * Shell commands: prefix with an ! symbol.  E.g. `!ls -l` lists the contents of the current directory.\n",
        " * If you don't have a Google account, you may copy-paste the  statements in  local Python installations.\n",
        " * To plot, see examples [here](https://colab.research.google.com/notebooks/charts.ipynb).\n",
        "\n",
        "The class is based on the following paper:\n",
        "\n",
        "> Giorgino T, Analysis libraries for molecular trajectories: a cross-language synopsis. Chapter 20 in:  Biomolecular Simulations: Methods and Protocols Edited by M. Bonomi and C. Camilloni (Springer, ISBN 978-1-4939-9608-7).  [Preprint here](https://github.com/giorginolab/preprints-repository/tree/master/analysis_libraries_chapter)\n",
        "\n",
        "and on the biological example from:\n",
        "\n",
        "> Giorgino T, Mattioni D, Hassan A, Milani M, Mastrangelo E, Barbiroli A, et al. Nanobody interaction unveils structure, dynamics and proteotoxicity of the Finnish-type amyloidogenic gelsolin variant. Biochimica et Biophysica Acta (BBA) - Molecular Basis of Disease. 2019 Mar 1;1865(3):648–60. [Journal version](https://www.sciencedirect.com/science/article/pii/S0925443919300109?via%3Dihub). [Preprint here](https://arxiv.org/abs/1903.07308).\n",
        "\n",
        "\n",
        "\n"
      ]
    },
    {
      "cell_type": "markdown",
      "metadata": {
        "id": "3YeAHzknEP1D"
      },
      "source": [
        "# Retrieve simulation trajectories\n",
        "\n",
        "This copies data on the server which is running the calculations (not your computer). See below to download files to your PC."
      ]
    },
    {
      "cell_type": "code",
      "execution_count": null,
      "metadata": {
        "id": "V1F3bEXzpIX7"
      },
      "outputs": [],
      "source": [
        "%pwd"
      ]
    },
    {
      "cell_type": "code",
      "execution_count": null,
      "metadata": {
        "cellView": "code",
        "id": "hyKBH8TnBIPT"
      },
      "outputs": [],
      "source": [
        "# Get the data files if not there yet\n",
        "! [ -f MD-Tutorial-Data ] || git clone https://github.com/giorginolab/MD-Tutorial-Data.git"
      ]
    },
    {
      "cell_type": "code",
      "execution_count": null,
      "metadata": {
        "id": "QMqJhgcepIX9"
      },
      "outputs": [],
      "source": [
        "%ls -l MD-Tutorial-Data/GSN"
      ]
    },
    {
      "cell_type": "markdown",
      "metadata": {
        "id": "gvsBebPvp3HH"
      },
      "source": [
        "# Download results to your PC\n",
        "\n",
        "To download any file (not necessary, but may be useful to inspect results), use the little \"folder\" icon on the left."
      ]
    },
    {
      "cell_type": "markdown",
      "metadata": {
        "id": "vG8uOOqyETyO"
      },
      "source": [
        "# Install Python libraries\n",
        "\n",
        "Should be done via either pip or conda. We may already have them."
      ]
    },
    {
      "cell_type": "code",
      "execution_count": null,
      "metadata": {
        "id": "4HCT1_PtEC0c"
      },
      "outputs": [],
      "source": [
        "%pip install mdtraj\n",
        "# %pip install mdanalysis\n",
        "# %pip install moleculekit\n"
      ]
    },
    {
      "cell_type": "markdown",
      "metadata": {
        "id": "wBEwTuEOPcuo"
      },
      "source": [
        "\n",
        "## Analysis starts here\n",
        "\n",
        "We will make use of Python (and its Numpy library) functions to answer a series of questions. \n",
        "\n",
        "Rewriting them in one of the other libraries and languages may be an useful exercise."
      ]
    },
    {
      "cell_type": "code",
      "execution_count": null,
      "metadata": {
        "id": "N5TlwHcrFX9c"
      },
      "outputs": [],
      "source": [
        "import mdtraj as mdt\n",
        "# import MDAnalysis as mda\n",
        "# import moleculekit as mk\n",
        "import numpy as np\n",
        "import matplotlib.pyplot as plt"
      ]
    },
    {
      "cell_type": "code",
      "execution_count": null,
      "metadata": {
        "id": "6o_snsVfQrUV"
      },
      "outputs": [],
      "source": [
        "# The file set we plan to analyze. In this case it may be WT, WT+Nb, \n",
        "# D187N, D187N+Nb .\n",
        "\n",
        "pdb=\"MD-Tutorial-Data/GSN/WT+Nb-run.pdb\"\n",
        "xtc=\"MD-Tutorial-Data/GSN/WT+Nb-run-subset.xtc\"\n",
        "\n",
        "# psf=\"WT+Nb-run.psf\"  # but we don't use this one\n"
      ]
    },
    {
      "cell_type": "code",
      "execution_count": null,
      "metadata": {
        "id": "DsyB-Yo3SKBD"
      },
      "outputs": [],
      "source": [
        "m=mdt.load(xtc, top=pdb)"
      ]
    },
    {
      "cell_type": "code",
      "execution_count": null,
      "metadata": {
        "id": "gxnnNWpXWMvr"
      },
      "outputs": [],
      "source": [
        "m"
      ]
    },
    {
      "cell_type": "markdown",
      "metadata": {
        "id": "tSnNdZf9V-YM"
      },
      "source": [
        "# Exercises\n",
        "\n",
        "Write code to answer the following questions\n",
        "\n",
        "## Residues?\n",
        "\n",
        "How is it possible that there are so many \"residues\"?"
      ]
    },
    {
      "cell_type": "markdown",
      "metadata": {
        "id": "YUJSXph9WSdR"
      },
      "source": [
        "## How many chains are there? \n",
        "\n",
        "Note that these are simulation structures, and may use chains for different purposes than crystallographic structures. We extract actual chain information from each atom's property. [Note:  MDAnalysis has another classification called \"Segments\", which mostly, but not entirely, overlaps chains.]"
      ]
    },
    {
      "cell_type": "code",
      "execution_count": null,
      "metadata": {
        "id": "z0ykD_tgbXdD"
      },
      "outputs": [],
      "source": [
        "\n"
      ]
    },
    {
      "cell_type": "code",
      "source": [
        "#@title Answer... {display-mode: \"form\"}\n",
        "\n",
        "m.n_chains\n"
      ],
      "metadata": {
        "id": "GgRgqZJHhLCQ"
      },
      "execution_count": null,
      "outputs": []
    },
    {
      "cell_type": "markdown",
      "metadata": {
        "id": "TirrLCIoWYZ2"
      },
      "source": [
        "## How many residues and atoms per each chain?\n",
        "\n",
        "Hint: use\n",
        "\n",
        "    for c in m.topology.chains:\n",
        "        # do something with c"
      ]
    },
    {
      "cell_type": "code",
      "source": [],
      "metadata": {
        "id": "Jv2ikcN6iFZu"
      },
      "execution_count": null,
      "outputs": []
    },
    {
      "cell_type": "code",
      "execution_count": null,
      "metadata": {
        "id": "a7By4XXipIYD"
      },
      "outputs": [],
      "source": [
        "#@title Solution... {display-mode: \"form\"}\n",
        " \n",
        "for c in m.topology.chains:\n",
        "    print(f\"Chain {c} has {c.n_residues} residue, {c.n_atoms} atoms\")  # QUESTION"
      ]
    },
    {
      "cell_type": "markdown",
      "metadata": {
        "id": "DSmqG7K_Wn24"
      },
      "source": [
        "## How many Cα atoms?"
      ]
    },
    {
      "cell_type": "code",
      "execution_count": null,
      "metadata": {
        "id": "J6nLNymvctpu"
      },
      "outputs": [],
      "source": [
        "# Write your answer here\n"
      ]
    },
    {
      "cell_type": "code",
      "source": [
        "#@title Solution... {display-mode: \"form\"}\n",
        "len(list(m.topology.select(\"name CA\")))"
      ],
      "metadata": {
        "id": "1t9hnGYOig5j"
      },
      "execution_count": null,
      "outputs": []
    },
    {
      "cell_type": "markdown",
      "metadata": {
        "id": "sX4VJ-yOWee3"
      },
      "source": [
        "## Is your structure solvated? If so, remove solvent."
      ]
    },
    {
      "cell_type": "code",
      "execution_count": null,
      "metadata": {
        "id": "SR_T0opecuG0"
      },
      "outputs": [],
      "source": [
        "non_h2o = m.topology.select(\"not water\")\n",
        "len(list(non_h2o))\n",
        "\n",
        "# ..... \n"
      ]
    },
    {
      "cell_type": "code",
      "source": [
        "#@title Solution... {display-mode: \"form\"}\n",
        "\n",
        "m_nowater=m.atom_slice(non_h2o) #QUESTION"
      ],
      "metadata": {
        "id": "OSSkLp6Yjge8"
      },
      "execution_count": null,
      "outputs": []
    },
    {
      "cell_type": "code",
      "execution_count": null,
      "metadata": {
        "id": "yXTmlCU6Mw7o"
      },
      "outputs": [],
      "source": [
        "m_nowater.n_atoms"
      ]
    },
    {
      "cell_type": "markdown",
      "metadata": {
        "id": "z32YxiwzW2fJ"
      },
      "source": [
        "## How many frames? How many nanoseconds?"
      ]
    },
    {
      "cell_type": "code",
      "execution_count": null,
      "metadata": {
        "id": "Reywm7LHcurF"
      },
      "outputs": [],
      "source": [
        "#@title Solution... {display-mode: \"form\"}\n",
        "m_nowater.n_frames          #QUESTION"
      ]
    },
    {
      "cell_type": "markdown",
      "metadata": {
        "id": "-dP5Hq8GXBMP"
      },
      "source": [
        "## Count how many species of ions and how many of each"
      ]
    },
    {
      "cell_type": "code",
      "execution_count": null,
      "metadata": {
        "id": "-98otVpScwPn"
      },
      "outputs": [],
      "source": [
        "resnames = np.unique([r.name for r in m.topology.residues])\n",
        "print(resnames)"
      ]
    },
    {
      "cell_type": "markdown",
      "source": [
        "Hint: use the following\n",
        "\n",
        "`for ion in [\"CAL\",\"CLA\",\"SOD\"]:`"
      ],
      "metadata": {
        "id": "1Ab199lJkAco"
      }
    },
    {
      "cell_type": "code",
      "execution_count": null,
      "metadata": {
        "id": "YKgHh4v8pIYF"
      },
      "outputs": [],
      "source": [
        "#@title Solution... {display-mode: \"form\"}\n",
        "for ion in [\"CAL\",\"CLA\",\"SOD\"]:\n",
        "    ions = [a.index for a in m_nowater.topology.atoms if a.residue.name == ion]    #QUESTION\n",
        "    print(f\"There are {len(ions)} atoms of type {ion}\")\n",
        "\n"
      ]
    },
    {
      "cell_type": "markdown",
      "metadata": {
        "id": "NTYdAs4EXmM6"
      },
      "source": [
        "## Align to the G2's first frame"
      ]
    },
    {
      "cell_type": "markdown",
      "metadata": {
        "id": "P3ZTKK31hO5t"
      },
      "source": [
        "Now keep only chain D (chainid 3) and align to its frame 0. For atom selections, refer to https://www.mdtraj.org/1.9.8.dev0/atom_selection.html ."
      ]
    },
    {
      "cell_type": "code",
      "execution_count": null,
      "metadata": {
        "id": "wTCDAC34hTIu"
      },
      "outputs": [],
      "source": [
        "#@title Solution... {display-mode: \"form\"}\n",
        "cD = m.topology.select(\"protein and chainid 3\")           #QUESTION\n",
        "mD = m.atom_slice(cD)                                     #QUESTION"
      ]
    },
    {
      "cell_type": "code",
      "execution_count": null,
      "metadata": {
        "id": "krSApeCTcxPq"
      },
      "outputs": [],
      "source": [
        "align_idx = mD.topology.select(\"name CA and resid < 240\")\n",
        "mD.superpose(mD, 0, align_idx)\n",
        "\n",
        "# In case you want to inspect\n",
        "mD.save(\"check.pdb\")\n",
        "mD.save(\"check.xtc\")"
      ]
    },
    {
      "cell_type": "code",
      "execution_count": null,
      "metadata": {
        "id": "LWdGzk4oO_AW"
      },
      "outputs": [],
      "source": [
        "!ls -l"
      ]
    },
    {
      "cell_type": "markdown",
      "metadata": {
        "id": "5RX-Ibn6u7cQ"
      },
      "source": [
        "## Inspect the shape of the coordinates. \n",
        "\n",
        "MDTraj uses frames x atoms x 3"
      ]
    },
    {
      "cell_type": "code",
      "execution_count": null,
      "metadata": {
        "id": "4CvsnK_xu6gp"
      },
      "outputs": [],
      "source": [
        "mD.xyz.shape"
      ]
    },
    {
      "cell_type": "markdown",
      "metadata": {
        "id": "UR1md0GgXsNZ"
      },
      "source": [
        "## Compute backbone global RMSD(t) \n",
        "\n",
        "![immagine.png](data:image/png;base64,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)"
      ]
    },
    {
      "cell_type": "code",
      "execution_count": null,
      "metadata": {
        "id": "D0VGhFJDcxxC"
      },
      "outputs": [],
      "source": [
        "T = mD.n_frames\n",
        "N = mD.n_atoms # CA only: 1 atom = 1 residue\n",
        "\n",
        "rmsdT = np.zeros((T))\n",
        "X = mD.xyz[0,:,:]  # First frame, all axes, all atoms\n",
        "\n",
        "for t in range(T):\n",
        "  Y = mD.xyz[t,:,:]  # Frame at t, all axes, all atoms\n",
        "  d2 = (X-Y)**2   # This is still a matrix\n",
        "  sd2 = np.sum(d2)/N\n",
        "  rmsdT[t]=np.sqrt(sd2)\n",
        "\n",
        "print(rmsdT)"
      ]
    },
    {
      "cell_type": "code",
      "execution_count": null,
      "metadata": {
        "id": "jvatC9MT2iOU"
      },
      "outputs": [],
      "source": [
        "plt.figure(figsize=(10,5))\n",
        "plt.plot(np.arange(T), rmsdT)\n",
        "plt.xlabel(\"Simulation time (10*ns)\")\n",
        "plt.ylabel(\"Cα RMSD (Å)\")"
      ]
    },
    {
      "cell_type": "markdown",
      "metadata": {
        "id": "N46UVmk7X3j5"
      },
      "source": [
        "## Compute displacements *by residue and time*."
      ]
    },
    {
      "cell_type": "code",
      "execution_count": null,
      "metadata": {
        "id": "ISRedtqZcyMs"
      },
      "outputs": [],
      "source": [
        "rmsdRT = np.zeros((T,N))\n",
        "\n",
        "for i in range(N):\n",
        "  Xi = mD.xyz[0,i,:] # First frame, all axes, atom i\n",
        "  for t in range(T):\n",
        "    Yi = mD.xyz[t,i,:]  # Time t, atom i, 3D vector\n",
        "    dist = np.sum((Xi-Yi)**2)   # Displacement^2\n",
        "    rmsdRT[t,i]=np.sqrt(dist)\n",
        "\n",
        "print(rmsdRT)"
      ]
    },
    {
      "cell_type": "code",
      "execution_count": null,
      "metadata": {
        "id": "HJ0w4CesRbq4"
      },
      "outputs": [],
      "source": [
        "rmsdRT.shape"
      ]
    },
    {
      "cell_type": "code",
      "execution_count": null,
      "metadata": {
        "id": "dtQFpWln7T3c"
      },
      "outputs": [],
      "source": [
        "plt.figure(figsize=(10,5))\n",
        "plt.imshow(rmsdRT.T, aspect=\"auto\", cmap=\"binary\")\n",
        "plt.ylabel(\"Residue\")\n",
        "plt.xlabel(\"Time (ns/10)\")"
      ]
    },
    {
      "cell_type": "markdown",
      "metadata": {
        "id": "OTSUF4xApIYJ"
      },
      "source": [
        "## Question\n",
        "\n",
        "How to modify the code so that the vertical axis is *actually* residues?\n",
        "\n",
        "**Hint:** No need to compute for all atoms of a residue."
      ]
    },
    {
      "cell_type": "markdown",
      "metadata": {
        "id": "1sTldTxCN9_a"
      },
      "source": [
        "## Average over time"
      ]
    },
    {
      "cell_type": "code",
      "execution_count": null,
      "metadata": {
        "id": "_O-zgcOr7YFk"
      },
      "outputs": [],
      "source": [
        "plt.figure(figsize=(10,5))\n",
        "rmsdR = np.mean(rmsdRT,axis = 0) # <-- note: mean over axis 0, which is time\n",
        "plt.plot(np.arange(N), rmsdR)\n",
        "plt.xlabel(\"Residue\")\n",
        "plt.ylabel(\"Mean displacement (A)\")"
      ]
    }
  ],
  "metadata": {
    "colab": {
      "name": "practice_answers.ipynb",
      "provenance": [],
      "include_colab_link": true
    },
    "kernelspec": {
      "display_name": "Python 3",
      "language": "python",
      "name": "python3"
    },
    "language_info": {
      "codemirror_mode": {
        "name": "ipython",
        "version": 3
      },
      "file_extension": ".py",
      "mimetype": "text/x-python",
      "name": "python",
      "nbconvert_exporter": "python",
      "pygments_lexer": "ipython3",
      "version": "3.10.6"
    }
  },
  "nbformat": 4,
  "nbformat_minor": 0
}
