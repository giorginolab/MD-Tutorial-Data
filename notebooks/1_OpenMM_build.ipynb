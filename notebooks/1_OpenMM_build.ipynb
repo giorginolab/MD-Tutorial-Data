{
 "cells": [
  {
   "cell_type": "markdown",
   "metadata": {
    "colab_type": "text",
    "id": "view-in-github"
   },
   "source": [
    "<a href=\"https://colab.research.google.com/github/giorginolab/OpenMM-Tutorial-UniPD-2023/blob/main/OpenMM_2023.ipynb\" target=\"_parent\"><img src=\"https://colab.research.google.com/assets/colab-badge.svg\" alt=\"Open In Colab\"/></a>"
   ]
  },
  {
   "cell_type": "markdown",
   "metadata": {
    "id": "oeIY1rm5iMoS"
   },
   "source": [
    "# Colab-specific instructions start here"
   ]
  },
  {
   "cell_type": "code",
   "execution_count": null,
   "metadata": {
    "colab": {
     "base_uri": "https://localhost:8080/"
    },
    "id": "x-LgMM-aMQUu",
    "outputId": "bc5d882b-e9eb-4329-b517-b1db830fff42"
   },
   "outputs": [],
   "source": [
    "# Here we use a Conda environment inside Google Colab. Blocks specific for Colab\n",
    "# (like this one) mention \"condacolab\". On \"normal\" platforms the procedure\n",
    "# for installation may be different - you need to check the system's documentation.  \n",
    "\n",
    "# Colab notebooks are \"brittle\": in the course of time Colab is updated\n",
    "# and dependencies no longer work properly. Proper HPC platforms are more\n",
    "# stable (and supported)\n",
    "\n",
    "# After executing this cell, Colab restarts.\n",
    "\n",
    "!pip install -q condacolab   \n",
    "import condacolab\n",
    "condacolab.install_miniforge()"
   ]
  },
  {
   "cell_type": "code",
   "execution_count": null,
   "metadata": {
    "colab": {
     "base_uri": "https://localhost:8080/",
     "height": 36
    },
    "id": "6tn-o7_HPTPH",
    "outputId": "51a8bb8c-d436-47a6-8294-19557b7bdda7"
   },
   "outputs": [],
   "source": [
    "# Verify Python version\n",
    "import sys\n",
    "sys.version"
   ]
  },
  {
   "cell_type": "code",
   "execution_count": null,
   "metadata": {
    "colab": {
     "base_uri": "https://localhost:8080/"
    },
    "id": "R20xtTMUMV1G",
    "outputId": "3e60de63-18c1-4e31-cf51-aedffb73728c"
   },
   "outputs": [],
   "source": [
    "import condacolab\n",
    "condacolab.check()"
   ]
  },
  {
   "cell_type": "code",
   "execution_count": null,
   "metadata": {
    "id": "eJBksuFHvywY"
   },
   "outputs": [],
   "source": [
    "# Colab-specific workaround for a weird error upon shell escape:\n",
    "#   NotImplementedError: A UTF-8 locale is required. Got ANSI_X3.4-1968\n",
    "import locale\n",
    "def getpreferredencoding(do_setlocale = True):\n",
    "    return \"UTF-8\"\n",
    "locale.getpreferredencoding = getpreferredencoding"
   ]
  },
  {
   "cell_type": "markdown",
   "metadata": {
    "id": "CUCYRv29iTZL"
   },
   "source": [
    "# Generic installation instructions"
   ]
  },
  {
   "cell_type": "code",
   "execution_count": null,
   "metadata": {
    "colab": {
     "base_uri": "https://localhost:8080/"
    },
    "id": "byiLnbrjNNKD",
    "outputId": "0b5cc683-4197-49c4-a817-7cf8fccf3237"
   },
   "outputs": [],
   "source": [
    "# Verify GPU availability and type. If you get an error, check that \n",
    "# \"Runtime / Runtime type / GPU\" is selected.\n",
    "!nvidia-smi"
   ]
  },
  {
   "cell_type": "code",
   "execution_count": null,
   "metadata": {
    "colab": {
     "base_uri": "https://localhost:8080/"
    },
    "id": "MWxph4gVMhPk",
    "outputId": "8d54929b-5525-45ef-b029-1c9490398a6c"
   },
   "outputs": [],
   "source": [
    "# Install OpenMM. Takes a long time.\n",
    "!conda install -q -c conda-forge openmm pdbfixer"
   ]
  },
  {
   "cell_type": "markdown",
   "metadata": {
    "id": "WsHkdOZ8ELEE"
   },
   "source": [
    "# Tests"
   ]
  },
  {
   "cell_type": "code",
   "execution_count": null,
   "metadata": {
    "colab": {
     "base_uri": "https://localhost:8080/"
    },
    "id": "qUDOptzpMjaX",
    "outputId": "c7956885-0edf-414a-9ae8-bf4404ea830f"
   },
   "outputs": [],
   "source": [
    "# A quick test\n",
    "import openmm.testInstallation\n",
    "openmm.testInstallation.main()"
   ]
  },
  {
   "cell_type": "code",
   "execution_count": null,
   "metadata": {
    "colab": {
     "base_uri": "https://localhost:8080/"
    },
    "id": "QnTQEtH5wYd0",
    "outputId": "7f4cf540-abb5-437d-dd16-3329c3860af3"
   },
   "outputs": [],
   "source": [
    "!(cd /usr/local/share/openmm/examples; python benchmark.py)"
   ]
  },
  {
   "cell_type": "code",
   "execution_count": null,
   "metadata": {
    "colab": {
     "base_uri": "https://localhost:8080/"
    },
    "id": "gYTdYvChOZId",
    "outputId": "861e0978-d6f2-4c24-a176-783b55373a9e"
   },
   "outputs": [],
   "source": [
    "# A more realistic benchmark. Note the \"ns_per_day\" figure\n",
    "!(cd $CONDA_PREFIX/share/openmm/examples; python benchmark.py --platform OpenCL --test pme --seconds 5  --precision mixed)"
   ]
  },
  {
   "cell_type": "code",
   "execution_count": null,
   "metadata": {
    "id": "ohNwcXN1v0SO"
   },
   "outputs": [],
   "source": [
    "# CUDA (NVIDIA GPU) is the fastest platform. You can the others with...\n",
    "# !(cd /usr/local/share/openmm/examples; python benchmark.py --platform CUDA --test pme --seconds 5  --precision mixed)\n",
    "# !(cd /usr/local/share/openmm/examples; python benchmark.py --platform OpenCL --test pme --seconds 5  --precision mixed)\n",
    "# !(cd /usr/local/share/openmm/examples; python benchmark.py --platform CPU --test pme --seconds 5  --precision mixed)"
   ]
  },
  {
   "cell_type": "markdown",
   "metadata": {
    "id": "NCHio6weEOp7"
   },
   "source": [
    "# Here begins the simulations tutorial proper "
   ]
  },
  {
   "cell_type": "code",
   "execution_count": null,
   "metadata": {
    "id": "7ckdedq72N6P"
   },
   "outputs": [],
   "source": [
    "from openmm.app import *\n",
    "from openmm import *\n",
    "from openmm.unit import *\n",
    "from pdbfixer import *\n",
    "from sys import stdout"
   ]
  },
  {
   "cell_type": "markdown",
   "metadata": {
    "id": "7zp_OI_B37Hh"
   },
   "source": [
    "## Download, fix missing atoms, solvate\n",
    "\n",
    "Can also be done on the command line with the `pdbfixer` executable."
   ]
  },
  {
   "cell_type": "code",
   "execution_count": null,
   "metadata": {
    "colab": {
     "base_uri": "https://localhost:8080/"
    },
    "id": "ZwU6a4D22VZ9",
    "outputId": "02baf0a4-d78c-4d69-a5a6-e4f8a467046a"
   },
   "outputs": [],
   "source": [
    "# Retrieve the structure from the RCSB \n",
    "fixer = PDBFixer(pdbid=\"6H1F\")\n",
    "\n",
    "# Add missing (unresolved) residues. We don't want to model anything.\n",
    "fixer.findMissingResidues()\n",
    "fixer.missingResidues = {}\n",
    "# fixer.addMissingResidues()\n",
    "\n",
    "# Add missing (unresolved) atoms\n",
    "fixer.findMissingAtoms()\n",
    "fixer.addMissingAtoms()\n",
    "\n",
    "# Protonate (roughly) at chosen pH\n",
    "fixer.addMissingHydrogens(pH=7.0)\n",
    "\n",
    "# Explicit solvent: 10 nm^3 box\n",
    "fixer.addSolvent(boxSize=10 * Vec3(1, 1, 1))\n",
    "\n",
    "# Save the file so it can be inspected\n",
    "PDBFile.writeFile(fixer.topology, fixer.positions, open(\"6H1F-fixed.pdb\", \"w\"))"
   ]
  },
  {
   "cell_type": "markdown",
   "metadata": {
    "id": "cO8yyLTf3-tt"
   },
   "source": [
    "## Modeling\n",
    "\n",
    "Modelling step. Sometimes unnecessary. Here it is \n",
    "needed to remove an \"SCN\" (THIOCYANATE ION) residue.\n"
   ]
  },
  {
   "cell_type": "code",
   "execution_count": null,
   "metadata": {
    "id": "-Rhz1J9G2VcA"
   },
   "outputs": [],
   "source": [
    "# There is an \"SCN\" residue to remove\n",
    "modeller = Modeller(fixer.topology, fixer.positions)\n",
    "\n",
    "res_SCN = [r for r in modeller.topology.residues() if r.name == \"SCN\"]\n",
    "modeller.delete(res_SCN)\n",
    "\n",
    "PDBFile.writeFile(\n",
    "    modeller.topology, modeller.positions, open(\"6H1F-modelled.pdb\", \"w\"), keepIds=True\n",
    ")\n"
   ]
  },
  {
   "cell_type": "markdown",
   "metadata": {
    "id": "HpYDYTSw4K44"
   },
   "source": [
    "## Create integration-related objects"
   ]
  },
  {
   "cell_type": "code",
   "execution_count": null,
   "metadata": {
    "id": "JdK5qN5629Qn"
   },
   "outputs": [],
   "source": [
    "# The FF object holds the parameters\n",
    "forcefield = ForceField(\"amber14-all.xml\", \"amber14/tip3pfb.xml\")"
   ]
  },
  {
   "cell_type": "code",
   "execution_count": null,
   "metadata": {
    "id": "o27ZyqcM2_ME"
   },
   "outputs": [],
   "source": [
    "# This specifies the system to be simulated. \n",
    "system = forcefield.createSystem(\n",
    "    modeller.topology,\n",
    "    nonbondedMethod=PME,\n",
    "    nonbondedCutoff=1 * nanometer,\n",
    "    constraints=HBonds,\n",
    ")"
   ]
  },
  {
   "cell_type": "code",
   "execution_count": null,
   "metadata": {
    "id": "NOIjKD6D2_OE"
   },
   "outputs": [],
   "source": [
    "# Specify the integrator: temperature, relaxation time, timestep (important)\n",
    "integrator = LangevinMiddleIntegrator(300 * kelvin, 1 / picosecond, 0.004 * picoseconds)"
   ]
  },
  {
   "cell_type": "code",
   "execution_count": null,
   "metadata": {
    "colab": {
     "base_uri": "https://localhost:8080/"
    },
    "id": "H3LZto6H2_QL",
    "outputId": "0191a3a7-1801-4417-dc5c-6b8b70eb7786"
   },
   "outputs": [],
   "source": [
    "# The barostat is added to the system so that density is controlled \n",
    "# in addition to temperature.\n",
    "\n",
    "# Pressure, Temperature (only used for calculation),\n",
    "# Frequency (how frequently the system should update the box size)\n",
    "barostat = MonteCarloBarostat(1.0 * atmosphere, 300.0 * kelvin, 25)\n",
    "\n",
    "system.addForce(barostat)\n"
   ]
  },
  {
   "cell_type": "code",
   "execution_count": null,
   "metadata": {
    "id": "zLftrdY42_SR"
   },
   "outputs": [],
   "source": [
    "# Combines the molecular topology, system, and integrator\n",
    "# to begin a new simulation.\n",
    "simulation = Simulation(modeller.topology, system, integrator)\n",
    "simulation.context.setPositions(modeller.positions)"
   ]
  },
  {
   "cell_type": "markdown",
   "metadata": {
    "id": "E11YrRs64O2x"
   },
   "source": [
    "## Minimize energy"
   ]
  },
  {
   "cell_type": "code",
   "execution_count": null,
   "metadata": {
    "colab": {
     "base_uri": "https://localhost:8080/"
    },
    "id": "rus1eBN93nQp",
    "outputId": "46b9815c-47f8-4a6f-9ba2-75480ce5096f"
   },
   "outputs": [],
   "source": [
    "# Perform local energy minimization\n",
    "print(\"Minimizing energy...\")\n",
    "simulation.minimizeEnergy(maxIterations=500)\n",
    "\n",
    "\n",
    "# Write the minimized coordinates (for checking)\n",
    "PDBFile.writeFile(\n",
    "    simulation.topology,\n",
    "    simulation.context.getState(getPositions=True).getPositions(),\n",
    "    open(\"6H1F-minimized.pdb\", \"w\"),\n",
    "    keepIds=True,\n",
    ")"
   ]
  },
  {
   "cell_type": "markdown",
   "metadata": {
    "id": "ytJI6fvR4RC4"
   },
   "source": [
    "## Integrate"
   ]
  },
  {
   "cell_type": "code",
   "execution_count": null,
   "metadata": {
    "id": "CBZ9j6Eq4WmF"
   },
   "outputs": [],
   "source": [
    "Nsteps = 5000"
   ]
  },
  {
   "cell_type": "code",
   "execution_count": null,
   "metadata": {
    "id": "D0_zmX7q3naR"
   },
   "outputs": [],
   "source": [
    "# When the simulation runs, it will write the trajectory to a file called \"output.pdb\"\n",
    "simulation.reporters.append(\n",
    "    DCDReporter(\"output.dcd\", reportInterval=1000, enforcePeriodicBox=True)\n",
    ")\n"
   ]
  },
  {
   "cell_type": "code",
   "execution_count": null,
   "metadata": {
    "id": "1-nC8lQB3ncU"
   },
   "outputs": [],
   "source": [
    "# Also report infomation to the screen as the simulation runs\n",
    "simulation.reporters.append(\n",
    "    StateDataReporter(\n",
    "        stdout,\n",
    "        100,\n",
    "        step=True,\n",
    "        time=True,\n",
    "        potentialEnergy=True,\n",
    "        kineticEnergy=True,\n",
    "        totalEnergy=True,\n",
    "        temperature=True,\n",
    "        volume=True,\n",
    "        density=True,\n",
    "        progress=True,\n",
    "        remainingTime=True,\n",
    "        speed=True,\n",
    "        elapsedTime=True,\n",
    "        separator=\" \",\n",
    "        totalSteps=Nsteps,\n",
    "    )\n",
    ")\n",
    "\n"
   ]
  },
  {
   "cell_type": "code",
   "execution_count": null,
   "metadata": {
    "colab": {
     "base_uri": "https://localhost:8080/"
    },
    "id": "h1A6B8vo3neq",
    "outputId": "e82f3973-8631-4bb6-d1e6-0e088d27374c"
   },
   "outputs": [],
   "source": [
    "# Finally run the simulation for the given timesteps\n",
    "print(\"Running simulation...\")\n",
    "simulation.step(Nsteps)"
   ]
  },
  {
   "cell_type": "code",
   "execution_count": null,
   "metadata": {
    "id": "tynQTmP62Vd0"
   },
   "outputs": [],
   "source": []
  },
  {
   "cell_type": "markdown",
   "metadata": {
    "id": "dTDrR8xhjDI4"
   },
   "source": [
    "# Results\n",
    "\n",
    "The simulation is completed. Now download the minimized PDB file (that gives the starting coordinates and the identity of the atoms) and the DCD file (a binary file, providing the trajectory, i.e. a series of snapshots of the coordinates). They can be best visualized locally on e.g. PyMol or VMD.\n"
   ]
  },
  {
   "cell_type": "markdown",
   "metadata": {
    "id": "LPFJbk0m4uFs"
   },
   "source": [
    "# Visualize\n",
    "\n",
    "Here we use a cloud-based viewer, but you should better download the results and use VMD."
   ]
  },
  {
   "cell_type": "code",
   "execution_count": null,
   "metadata": {
    "colab": {
     "base_uri": "https://localhost:8080/"
    },
    "id": "oTIWuzM-2S7g",
    "outputId": "4ff3b23f-0666-4250-c2e0-e76116b04e67"
   },
   "outputs": [],
   "source": [
    "!conda install -q MDAnalysis mdtraj\n",
    "!pip install py3Dmol \n",
    "import py3Dmol"
   ]
  },
  {
   "cell_type": "code",
   "execution_count": null,
   "metadata": {
    "colab": {
     "base_uri": "https://localhost:8080/"
    },
    "id": "7VGHIStd7jfD",
    "outputId": "5f5689b8-67fd-49f9-ccdb-a6cbdca540eb"
   },
   "outputs": [],
   "source": [
    "!mdconvert  -o output.pdb -t 6H1F-minimized.pdb output.dcd"
   ]
  },
  {
   "cell_type": "code",
   "execution_count": null,
   "metadata": {
    "colab": {
     "base_uri": "https://localhost:8080/",
     "height": 335
    },
    "id": "xTbmCYpv6zaK",
    "outputId": "ada403f8-bcac-48dd-91e2-b26e6cf55f5b"
   },
   "outputs": [],
   "source": [
    "view = py3Dmol.view(width=400, height=300)\n",
    "view.addModel(open('6H1F-minimized.pdb', 'r').read(),'pdb')\n",
    "view.addStyle({'model': -1}, {\"cartoon\": {'color': 'spectrum'}})\n",
    "view.zoomTo()\n"
   ]
  },
  {
   "cell_type": "code",
   "execution_count": null,
   "metadata": {
    "id": "mrVnxGYl6hM9"
   },
   "outputs": [],
   "source": []
  }
 ],
 "metadata": {
  "accelerator": "GPU",
  "colab": {
   "authorship_tag": "ABX9TyOXVpZZQWKnNjdeJHDYPUD1",
   "include_colab_link": true,
   "provenance": []
  },
  "gpuClass": "standard",
  "kernelspec": {
   "display_name": "Python 3 (ipykernel)",
   "language": "python",
   "name": "python3"
  },
  "language_info": {
   "codemirror_mode": {
    "name": "ipython",
    "version": 3
   },
   "file_extension": ".py",
   "mimetype": "text/x-python",
   "name": "python",
   "nbconvert_exporter": "python",
   "pygments_lexer": "ipython3",
   "version": "3.11.0"
  }
 },
 "nbformat": 4,
 "nbformat_minor": 1
}
